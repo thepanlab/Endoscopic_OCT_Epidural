{
 "cells": [
  {
   "cell_type": "code",
   "execution_count": 1,
   "metadata": {},
   "outputs": [],
   "source": [
    "import matplotlib.image as mpimg \n",
    "import matplotlib.pyplot as plt \n",
    "import numpy as np\n",
    "import pandas as pd\n",
    "import os, sys\n",
    "import re\n",
    "import time"
   ]
  },
  {
   "cell_type": "code",
   "execution_count": 2,
   "metadata": {},
   "outputs": [],
   "source": [
    "path2data = \"/Users/justinreynolds/Desktop/21summer/p0/data/\"\n",
    "path2images = \"/Users/justinreynolds/Desktop/21summer/p0/Cropped_Epidural_Distance_Measurement/\"\n",
    "path2processeddata = \"/Users/justinreynolds/Desktop/21summer/p0/Epidural/processed_data/\"\n",
    "#export_filename = \"proc_data_nz_20210531.csv\"\n",
    "exp_images = \"export_nz_images_1D_20210607.npy\"\n",
    "exp_imagefilenames = \"export_nz_names_20210607.npy\"\n",
    "exp_distances = \"export_nz_distances_20210607.npy\"\n",
    "exp_eid = \"export_nz_eid_20210607.npy\""
   ]
  },
  {
   "cell_type": "code",
   "execution_count": 3,
   "metadata": {},
   "outputs": [],
   "source": [
    "Names = ['sid', 'pixelCount', 'distance']\n",
    "E1_book = pd.read_excel(path2data+\"E1_Labeled Data.xlsx\", sheet_name=None, header=None, names=Names)\n",
    "E2_book = pd.read_excel(path2data+'E2_Labeled Data.xlsx', sheet_name=None, header=None, names=Names)\n",
    "E3_book = pd.read_excel(path2data+'E3_Labeled Data.xlsx', sheet_name=None, header=None, names=Names)\n",
    "E4_book = pd.read_excel(path2data+'E4_Labeled Data.xlsx', sheet_name=None, header=None, names=Names)\n",
    "E5_book = pd.read_excel(path2data+'E5_Labeled Data.xlsx', sheet_name=None, header=None, names=Names)\n",
    "E6_book = pd.read_excel(path2data+'E6_Labeled Data.xlsx', sheet_name=None, header=None, names=Names)\n",
    "E7_book = pd.read_excel(path2data+'E7_Labeled Data.xlsx', sheet_name=None, header=None, names=Names)\n",
    "E8_book = pd.read_excel(path2data+'E8_Labeled Data.xlsx', sheet_name=None, header=None, names=Names)"
   ]
  },
  {
   "cell_type": "code",
   "execution_count": 4,
   "metadata": {},
   "outputs": [],
   "source": [
    "E_dict = {\n",
    "    '1': E1_book, \n",
    "    '2': E2_book,\n",
    "    '3': E3_book, \n",
    "    '4': E4_book, \n",
    "    '5': E5_book, \n",
    "    '6': E6_book, \n",
    "    '7': E7_book, \n",
    "    '8': E8_book\n",
    "}"
   ]
  },
  {
   "cell_type": "code",
   "execution_count": 5,
   "metadata": {
    "scrolled": true
   },
   "outputs": [],
   "source": [
    "data_dict = {}\n",
    "for book in E_dict:\n",
    "    thisdf = E_dict[book]\n",
    "    my_dict = {}\n",
    "    for sheet in thisdf:\n",
    "        isid = thisdf[sheet]['sid']\n",
    "        idist = thisdf[sheet]['distance']\n",
    "        temp_dict = {isid[i]: idist[i] for i in range(len(isid))}\n",
    "        my_dict[sheet] = temp_dict\n",
    "    data_dict[book] = my_dict"
   ]
  },
  {
   "cell_type": "code",
   "execution_count": 6,
   "metadata": {},
   "outputs": [
    {
     "data": {
      "text/plain": [
       "['E8_Labeled Data.xlsx',\n",
       " 'E5_Distance_Measurement_cropped',\n",
       " 'E6_Distance_Measurement_cropped',\n",
       " 'E8_Distance_Measurement_cropped',\n",
       " 'E3_Distance_Measurement_cropped',\n",
       " 'E7_Labeled Data.xlsx',\n",
       " 'E2_Distance_Measurement_cropped',\n",
       " 'E2_Labeled Data.xlsx',\n",
       " 'EpiduralDistanceRegressionData.zip',\n",
       " 'E6_Labeled Data.xlsx',\n",
       " 'E3_Labeled Data.xlsx',\n",
       " 'E1_Distance_Measurement_cropped',\n",
       " 'E5_Labeled Data.xlsx',\n",
       " 'E7_Distance_Measurement_cropped',\n",
       " 'E4_Labeled Data.xlsx',\n",
       " 'E4_Distance_Measurement_cropped',\n",
       " 'E1_Labeled Data.xlsx']"
      ]
     },
     "execution_count": 6,
     "metadata": {},
     "output_type": "execute_result"
    }
   ],
   "source": [
    "dirs = os.listdir(path2images)\n",
    "dirs"
   ]
  },
  {
   "cell_type": "code",
   "execution_count": 7,
   "metadata": {
    "scrolled": true
   },
   "outputs": [
    {
     "name": "stdout",
     "output_type": "stream",
     "text": [
      "E8_Labeled Data.xlsx\n",
      "E5_Distance_Measurement_cropped\n",
      "\t E5_Distance_Measurement_2.0mm\n",
      "\t E5_Distance_Measurement_0.0mm\n",
      "\t E5_Distance_Measurement_1.0mm\n",
      "\t E5_Distance_Measurement_1.5mm\n",
      "\t E5_Distance_Measurement_0.5mm\n",
      "\t E5_Distance_Measurement_2.5mm\n",
      "E6_Distance_Measurement_cropped\n",
      "\t E6_Distance_Measurement_0.5mm\n",
      "\t E6_Distance_Measurement_1.5mm\n",
      "\t E6_Distance_Measurement_2.5mm\n",
      "\t E6_Distance_Measurement_2.0mm\n",
      "\t E6_Distance_Measurement_1.0mm\n",
      "\t E6_Distance_Measurement_0.0mm\n",
      "E8_Distance_Measurement_cropped\n",
      "\t E8_Distance_Measurement_2.0mm\n",
      "\t E8_Distance_Measurement_0.0mm\n",
      "\t E8_Distance_Measurement_1.0mm\n",
      "\t E8_Distance_Measurement_1.5mm\n",
      "\t E8_Distance_Measurement_0.5mm\n",
      "\t E8_Distance_Measurement_2.5mm\n",
      "E3_Distance_Measurement_cropped\n",
      "\t E3_Distance_Measurement_1.0mm\n",
      "\t E3_Distance_Measurement_0.0mm\n",
      "\t E3_Distance_Measurement_2.0mm\n",
      "\t E3_Distance_Measurement_2.5mm\n",
      "\t E3_Distance_Measurement_0.5mm\n",
      "\t E3_Distance_Measurement_1.5mm\n",
      "E7_Labeled Data.xlsx\n",
      "E2_Distance_Measurement_cropped\n",
      "\t E2_Distance_Measurement_1.0mm\n",
      "\t E2_Distance_Measurement_0.0mm\n",
      "\t E2_Distance_Measurement_2.0mm\n",
      "\t E2_Distance_Measurement_2.5mm\n",
      "\t E2_Distance_Measurement_0.5mm\n",
      "\t E2_Distance_Measurement_1.5mm\n",
      "E2_Labeled Data.xlsx\n",
      "EpiduralDistanceRegressionData.zip\n",
      "E6_Labeled Data.xlsx\n",
      "E3_Labeled Data.xlsx\n",
      "E1_Distance_Measurement_cropped\n",
      "\t E1_Distance_Measurement_2.5mm\n",
      "\t E1_Distance_Measurement_1.5mm\n",
      "\t E1_Distance_Measurement_0.5mm\n",
      "\t E1_Distance_Measurement_0.0mm\n",
      "\t E1_Distance_Measurement_1.0mm\n",
      "\t E1_Distance_Measurement_2.0mm\n",
      "E5_Labeled Data.xlsx\n",
      "E7_Distance_Measurement_cropped\n",
      "\t E7_Distance_Measurement_0.5mm\n",
      "\t E7_Distance_Measurement_1.5mm\n",
      "\t E7_Distance_Measurement_2.5mm\n",
      "\t E7_Distance_Measurement_2.0mm\n",
      "\t E7_Distance_Measurement_1.0mm\n",
      "\t E7_Distance_Measurement_0.0mm\n",
      "E4_Labeled Data.xlsx\n",
      "E4_Distance_Measurement_cropped\n",
      "\t E4_Distance_Measurement_2.0mm\n",
      "\t E4_Distance_Measurement_0.0mm\n",
      "\t E4_Distance_Measurement_1.0mm\n",
      "\t E4_Distance_Measurement_1.5mm\n",
      "\t E4_Distance_Measurement_0.5mm\n",
      "\t E4_Distance_Measurement_2.5mm\n",
      "E1_Labeled Data.xlsx\n"
     ]
    }
   ],
   "source": [
    "l_folders = [] \n",
    "for item in dirs:\n",
    "    print(item)\n",
    "    temp_dir = path2images + item\n",
    "    if os.path.isdir(temp_dir):\n",
    "        subdirs = os.listdir(temp_dir)\n",
    "        for subitem in subdirs:\n",
    "            l_folders.append(temp_dir + \"/\" +subitem)\n",
    "            print(\"\\t\", subitem)"
   ]
  },
  {
   "cell_type": "markdown",
   "metadata": {},
   "source": [
    "## Sample image"
   ]
  },
  {
   "cell_type": "code",
   "execution_count": 8,
   "metadata": {},
   "outputs": [
    {
     "data": {
      "text/plain": [
       "<matplotlib.image.AxesImage at 0x7fa30382e400>"
      ]
     },
     "execution_count": 8,
     "metadata": {},
     "output_type": "execute_result"
    },
    {
     "data": {
      "image/png": "[encoded data removed]",
      "text/plain": [
       "<Figure size 432x288 with 1 Axes>"
      ]
     },
     "metadata": {
      "needs_background": "light"
     },
     "output_type": "display_data"
    }
   ],
   "source": [
    "img = mpimg.imread(path2images+'E3_Distance_Measurement_cropped/E3_Distance_Measurement_2.0mm/'+'403_e3_Distance_2.0mm.jpg', format = \"jpg\") \n",
    "plt.imshow(img) "
   ]
  },
  {
   "cell_type": "markdown",
   "metadata": {},
   "source": [
    "## Map images to Excel data (include images with 0.0 distance)"
   ]
  },
  {
   "cell_type": "code",
   "execution_count": 9,
   "metadata": {
    "scrolled": true
   },
   "outputs": [
    {
     "name": "stdout",
     "output_type": "stream",
     "text": [
      "completed images = 1000\n",
      "completed images = 2000\n",
      "completed images = 3000\n",
      "completed images = 4000\n",
      "completed images = 5000\n",
      "completed images = 6000\n",
      "completed images = 7000\n",
      "completed images = 8000\n",
      "completed images = 9000\n",
      "completed images = 10000\n",
      "completed images = 11000\n",
      "completed images = 12000\n",
      "completed images = 13000\n",
      "completed images = 14000\n",
      "completed images = 15000\n",
      "completed images = 16000\n",
      "completed images = 17000\n",
      "completed images = 18000\n",
      "completed images = 19000\n",
      "completed images = 20000\n",
      "completed images = 21000\n",
      "completed images = 22000\n",
      "completed images = 23000\n",
      "completed images = 24000\n",
      "completed images = 25000\n",
      "completed images = 26000\n",
      "completed images = 27000\n",
      "completed images = 28000\n",
      "Time taken to read 24000  images: 73.46219801902771 s\n"
     ]
    }
   ],
   "source": [
    "include_zero_flag = False\n",
    "MasterDict = {}\n",
    "images_raw = []\n",
    "image_names = []\n",
    "precise_dist = []\n",
    "precise_dist_with_0s = []\n",
    "image_eid = []\n",
    "r_sid = re.compile(r'\\d+(?=_e[0-9]+)')\n",
    "r_eid = re.compile(r'(?<=e)[0-9]+')\n",
    "r_aprxdist = re.compile(r'\\d.\\d(?=mm)')\n",
    "r_dimdata = re.compile(r'\\d.\\d(?=mm)')\n",
    "\n",
    "start = time.time()\n",
    "\n",
    "count = 0\n",
    "for item in l_folders:\n",
    "    file_dir_temp = os.listdir(item)\n",
    "    # loop through dirs for E1, E2, E3, E4, E5, E6, and E7\n",
    "    for item_list in file_dir_temp:\n",
    "        # get full path to image\n",
    "        path_img = item + \"/\" + item_list\n",
    "        # get the sequence id from the image filename\n",
    "        res_sid = r_sid.search(item_list)\n",
    "        # get the the eid (e1, e2, ..., e7) from the image filename\n",
    "        res_eid = r_eid.search(item_list)\n",
    "        # get the distance provided by the image filename. \n",
    "        res_aprxdist = r_aprxdist.search(item_list)\n",
    "        # read the image with matplotlib mpimg\n",
    "        img = mpimg.imread(path_img, format = \"jpg\")\n",
    "        # convert 3D image to 1D (disregard pseudocolor)\n",
    "        img_1D = img[:,:,0]\n",
    "        # find the data entry in the Excel files corresponding to this image (if it exists)\n",
    "        for eid in data_dict:\n",
    "            if res_eid.group(0) == eid:\n",
    "                for dim in data_dict[eid]:\n",
    "                    res_dimdata = r_dimdata.search(dim)\n",
    "                    if res_aprxdist.group(0) == res_dimdata.group(0):\n",
    "                        for sid in data_dict[eid][dim]:\n",
    "                            if int(res_sid.group(0)) == int(sid):\n",
    "                                MasterDict[item_list] = (res_eid.group(0), \n",
    "                                                         int(res_sid.group(0)), \n",
    "                                                         float(res_aprxdist.group(0)),\n",
    "                                                         img_1D, \n",
    "                                                         data_dict[res_eid.group(0)][res_aprxdist.group(0)+'mm'][int(res_sid.group(0))])\n",
    "                                image_eid.append(int(res_eid.group(0)))\n",
    "                                image_names.append(item_list)\n",
    "                                images_raw.append(img)\n",
    "                                precise_dist.append(data_dict[res_eid.group(0)][res_aprxdist.group(0)+'mm'][int(res_sid.group(0))])\n",
    "                    elif include_zero_flag and (float(res_aprxdist.group(0)) == 0.0):\n",
    "                        MasterDict[item_list] = (\n",
    "                            res_eid.group(0), \n",
    "                            int(res_sid.group(0)), \n",
    "                            float(res_aprxdist.group(0)),\n",
    "                            img_1D, \n",
    "                            0.0)\n",
    "                        image_eid.append(int(res_eid.group(0)))\n",
    "                        image_names.append(item_list)\n",
    "                        images_raw.append(img)\n",
    "                        precise_dist.append(0.0)\n",
    "                        break           \n",
    "        count += 1\n",
    "        if count % 1000 == 0:\n",
    "            print(\"completed images =\", count)\n",
    "            \n",
    "end = time.time()\n",
    "print(\"Time taken to read\", len(MasterDict), \" images:\", end - start, \"s\")"
   ]
  },
  {
   "cell_type": "code",
   "execution_count": 10,
   "metadata": {},
   "outputs": [
    {
     "name": "stdout",
     "output_type": "stream",
     "text": [
      "including images with 0 distance? False\n",
      "number of images: 24000\n"
     ]
    }
   ],
   "source": [
    "print(\"including images with 0 distance?\", include_zero_flag)\n",
    "print(\"number of images:\", len(images_raw))"
   ]
  },
  {
   "cell_type": "code",
   "execution_count": 11,
   "metadata": {},
   "outputs": [
    {
     "data": {
      "text/plain": [
       "(681, 241, 3)"
      ]
     },
     "execution_count": 11,
     "metadata": {},
     "output_type": "execute_result"
    }
   ],
   "source": [
    "images_raw[100].shape"
   ]
  },
  {
   "cell_type": "code",
   "execution_count": 12,
   "metadata": {},
   "outputs": [
    {
     "data": {
      "text/plain": [
       "'063_e5_Distance_2.0mm.jpg'"
      ]
     },
     "execution_count": 12,
     "metadata": {},
     "output_type": "execute_result"
    }
   ],
   "source": [
    "image_names[100]"
   ]
  },
  {
   "cell_type": "markdown",
   "metadata": {},
   "source": [
    "## Transform images -- channels last"
   ]
  },
  {
   "cell_type": "code",
   "execution_count": 13,
   "metadata": {},
   "outputs": [
    {
     "data": {
      "text/plain": [
       "24000"
      ]
     },
     "execution_count": 13,
     "metadata": {},
     "output_type": "execute_result"
    }
   ],
   "source": [
    "# convert list of images to 1D - \"Channels Last\"\n",
    "images_1D = [i[:,:,0] for i in images_raw]\n",
    "len(images_1D)"
   ]
  },
  {
   "cell_type": "code",
   "execution_count": 14,
   "metadata": {},
   "outputs": [
    {
     "data": {
      "text/plain": [
       "(681, 241)"
      ]
     },
     "execution_count": 14,
     "metadata": {},
     "output_type": "execute_result"
    }
   ],
   "source": [
    "images_1D[100].shape"
   ]
  },
  {
   "cell_type": "code",
   "execution_count": null,
   "metadata": {},
   "outputs": [],
   "source": [
    "images_1D_arr = np.array(images_1D)"
   ]
  },
  {
   "cell_type": "code",
   "execution_count": null,
   "metadata": {},
   "outputs": [],
   "source": [
    "images_1D_arr.shape"
   ]
  },
  {
   "cell_type": "code",
   "execution_count": null,
   "metadata": {},
   "outputs": [],
   "source": [
    "images_1D_arr[100].shape"
   ]
  },
  {
   "cell_type": "markdown",
   "metadata": {},
   "source": [
    "## Export binaries"
   ]
  },
  {
   "cell_type": "code",
   "execution_count": null,
   "metadata": {},
   "outputs": [],
   "source": [
    "with open(path2processeddata+exp_images, 'wb') as f:\n",
    "    np.save(f, images_1D_arr)\n",
    "\n",
    "with open(path2processeddata+exp_imagefilenames, 'wb') as f:\n",
    "    np.save(f, image_names)\n",
    "\n",
    "with open(path2processeddata+exp_distances, 'wb') as f:\n",
    "    np.save(f, precise_dist)\n",
    "    \n",
    "with open(path2processeddata+exp_eid, 'wb') as f:\n",
    "    np.save(f, image_eid)"
   ]
  },
  {
   "cell_type": "code",
   "execution_count": null,
   "metadata": {},
   "outputs": [],
   "source": [
    "eid_unique = np.unique(image_eid)\n",
    "eid_unique"
   ]
  },
  {
   "cell_type": "code",
   "execution_count": null,
   "metadata": {},
   "outputs": [],
   "source": [
    "print(MasterDict['470_e2_Distance_0.5mm.jpg'])"
   ]
  },
  {
   "cell_type": "code",
   "execution_count": null,
   "metadata": {},
   "outputs": [],
   "source": [
    "idx = 1220\n",
    "print(\"name: \", image_names[idx])\n",
    "print(\"eid:  \", image_eid[idx])\n",
    "print(\"shape:\", images_1D_arr[idx].shape)\n",
    "print(\"dist: \", precise_dist[idx])\n",
    "\n",
    "plt.imshow(images_1D_arr[idx], interpolation='nearest')\n",
    "plt.show()"
   ]
  },
  {
   "cell_type": "code",
   "execution_count": null,
   "metadata": {},
   "outputs": [],
   "source": [
    "img = mpimg.imread(path2images+'E2_Distance_Measurement_cropped/E2_Distance_Measurement_0.0mm/'+'470_e2_Distance_0.0mm.jpg', format = \"jpg\") \n",
    "plt.imshow(img)"
   ]
  },
  {
   "cell_type": "code",
   "execution_count": null,
   "metadata": {},
   "outputs": [],
   "source": []
  },
  {
   "cell_type": "code",
   "execution_count": null,
   "metadata": {},
   "outputs": [],
   "source": []
  },
  {
   "cell_type": "code",
   "execution_count": null,
   "metadata": {},
   "outputs": [],
   "source": []
  }
 ],
 "metadata": {
  "kernelspec": {
   "display_name": "Python 3",
   "language": "python",
   "name": "python3"
  },
  "language_info": {
   "codemirror_mode": {
    "name": "ipython",
    "version": 3
   },
   "file_extension": ".py",
   "mimetype": "text/x-python",
   "name": "python",
   "nbconvert_exporter": "python",
   "pygments_lexer": "ipython3",
   "version": "3.8.5"
  }
 },
 "nbformat": 4,
 "nbformat_minor": 5
}
