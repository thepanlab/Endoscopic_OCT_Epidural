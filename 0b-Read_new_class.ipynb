{
 "cells": [
  {
   "cell_type": "code",
   "execution_count": 1,
   "metadata": {},
   "outputs": [],
   "source": [
    "# importing matplotlib modules \n",
    "import matplotlib.image as mpimg \n",
    "import matplotlib.pyplot as plt \n",
    "import numpy as np"
   ]
  },
  {
   "cell_type": "markdown",
   "metadata": {},
   "source": [
    "# Importing images"
   ]
  },
  {
   "cell_type": "code",
   "execution_count": 2,
   "metadata": {},
   "outputs": [
    {
     "name": "stdout",
     "output_type": "stream",
     "text": [
      "/scratch/paulcalle/Epidural_new_class/E1\n",
      "['E1_Distance1.0mm', 'E1_Distance2.5mm', 'E1_Distance0.5mm', 'E1_Distance1.5mm', 'E1_Distance2.0mm']\n",
      "E1_Distance1.0mm\n",
      "E1_Distance2.5mm\n",
      "E1_Distance0.5mm\n",
      "E1_Distance1.5mm\n",
      "E1_Distance2.0mm\n",
      "/scratch/paulcalle/Epidural_new_class/E6\n",
      "['E6_Distance2.0mm', 'E6_Distance1.5mm', 'E6_Distance0.5mm', 'E6_Distance2.5mm', 'E6_Distance1.0mm']\n",
      "E6_Distance2.0mm\n",
      "E6_Distance1.5mm\n",
      "E6_Distance0.5mm\n",
      "E6_Distance2.5mm\n",
      "E6_Distance1.0mm\n",
      "/scratch/paulcalle/Epidural_new_class/E2\n",
      "['E2_Distance0.5mm', 'E2_Distance1.5mm', 'E2_Distance2.0mm', 'E2_Distance1.0mm', 'E2_Distance2.5mm']\n",
      "E2_Distance0.5mm\n",
      "E2_Distance1.5mm\n",
      "E2_Distance2.0mm\n",
      "E2_Distance1.0mm\n",
      "E2_Distance2.5mm\n",
      "/scratch/paulcalle/Epidural_new_class/E8\n",
      "['E8_Distance2.0mm', 'E8_Distance1.5mm', 'E8_Distance0.5mm', 'E8_Distance2.5mm', 'E8_Distance1.0mm']\n",
      "E8_Distance2.0mm\n",
      "E8_Distance1.5mm\n",
      "E8_Distance0.5mm\n",
      "E8_Distance2.5mm\n",
      "E8_Distance1.0mm\n",
      "/scratch/paulcalle/Epidural_new_class/E5\n",
      "['E5_Distance1.5mm', 'E5_Distance2.0mm', 'E5_Distance0.5mm', 'E5_Distance1.0mm', 'E5_Distance2.5mm']\n",
      "E5_Distance1.5mm\n",
      "E5_Distance2.0mm\n",
      "E5_Distance0.5mm\n",
      "E5_Distance1.0mm\n",
      "E5_Distance2.5mm\n",
      "/scratch/paulcalle/Epidural_new_class/E7\n",
      "['E7_Distance0.5mm', 'E7_Distance2.0mm', 'E7_Distance1.5mm', 'E7_Distance2.5mm', 'E7_Distance1.0mm']\n",
      "E7_Distance0.5mm\n",
      "E7_Distance2.0mm\n",
      "E7_Distance1.5mm\n",
      "E7_Distance2.5mm\n",
      "E7_Distance1.0mm\n",
      "/scratch/paulcalle/Epidural_new_class/E4\n",
      "['E4_Distance0.5mm', 'E4_Distance1.5mm', 'E4_Distance2.0mm', 'E4_Distance1.0mm', 'E4_Distance2.5mm']\n",
      "E4_Distance0.5mm\n",
      "E4_Distance1.5mm\n",
      "E4_Distance2.0mm\n",
      "E4_Distance1.0mm\n",
      "E4_Distance2.5mm\n",
      "/scratch/paulcalle/Epidural_new_class/E3\n",
      "['E3_Distance0.5mm', 'E3_Distance1.5mm', 'E3_Distance2.0mm', 'E3_Distance1.0mm', 'E3_Distance2.5mm']\n",
      "E3_Distance0.5mm\n",
      "E3_Distance1.5mm\n",
      "E3_Distance2.0mm\n",
      "E3_Distance1.0mm\n",
      "E3_Distance2.5mm\n"
     ]
    }
   ],
   "source": [
    "import os, sys\n",
    "\n",
    "# Open a file\n",
    "path = \"/scratch/paulcalle/Epidural_new_class/\"\n",
    "dirs = os.listdir( path )\n",
    "\n",
    "# It will get the directories with the full directory name\n",
    "l_folders = [] \n",
    "# This would print all the files and directories\n",
    "for item in dirs:\n",
    "    temp_dir = path + item\n",
    "    print(temp_dir)\n",
    "    if os.path.isdir(temp_dir):\n",
    "        subdirs = os.listdir(temp_dir)\n",
    "        print(subdirs)\n",
    "        for subitem in subdirs:\n",
    "            l_folders.append(temp_dir + \"/\" +subitem)\n",
    "            print(subitem)"
   ]
  },
  {
   "cell_type": "code",
   "execution_count": 3,
   "metadata": {},
   "outputs": [
    {
     "data": {
      "text/plain": [
       "['/scratch/paulcalle/Epidural_new_class/E1/E1_Distance1.0mm',\n",
       " '/scratch/paulcalle/Epidural_new_class/E1/E1_Distance2.5mm',\n",
       " '/scratch/paulcalle/Epidural_new_class/E1/E1_Distance0.5mm',\n",
       " '/scratch/paulcalle/Epidural_new_class/E1/E1_Distance1.5mm',\n",
       " '/scratch/paulcalle/Epidural_new_class/E1/E1_Distance2.0mm',\n",
       " '/scratch/paulcalle/Epidural_new_class/E6/E6_Distance2.0mm',\n",
       " '/scratch/paulcalle/Epidural_new_class/E6/E6_Distance1.5mm',\n",
       " '/scratch/paulcalle/Epidural_new_class/E6/E6_Distance0.5mm',\n",
       " '/scratch/paulcalle/Epidural_new_class/E6/E6_Distance2.5mm',\n",
       " '/scratch/paulcalle/Epidural_new_class/E6/E6_Distance1.0mm',\n",
       " '/scratch/paulcalle/Epidural_new_class/E2/E2_Distance0.5mm',\n",
       " '/scratch/paulcalle/Epidural_new_class/E2/E2_Distance1.5mm',\n",
       " '/scratch/paulcalle/Epidural_new_class/E2/E2_Distance2.0mm',\n",
       " '/scratch/paulcalle/Epidural_new_class/E2/E2_Distance1.0mm',\n",
       " '/scratch/paulcalle/Epidural_new_class/E2/E2_Distance2.5mm',\n",
       " '/scratch/paulcalle/Epidural_new_class/E8/E8_Distance2.0mm',\n",
       " '/scratch/paulcalle/Epidural_new_class/E8/E8_Distance1.5mm',\n",
       " '/scratch/paulcalle/Epidural_new_class/E8/E8_Distance0.5mm',\n",
       " '/scratch/paulcalle/Epidural_new_class/E8/E8_Distance2.5mm',\n",
       " '/scratch/paulcalle/Epidural_new_class/E8/E8_Distance1.0mm',\n",
       " '/scratch/paulcalle/Epidural_new_class/E5/E5_Distance1.5mm',\n",
       " '/scratch/paulcalle/Epidural_new_class/E5/E5_Distance2.0mm',\n",
       " '/scratch/paulcalle/Epidural_new_class/E5/E5_Distance0.5mm',\n",
       " '/scratch/paulcalle/Epidural_new_class/E5/E5_Distance1.0mm',\n",
       " '/scratch/paulcalle/Epidural_new_class/E5/E5_Distance2.5mm',\n",
       " '/scratch/paulcalle/Epidural_new_class/E7/E7_Distance0.5mm',\n",
       " '/scratch/paulcalle/Epidural_new_class/E7/E7_Distance2.0mm',\n",
       " '/scratch/paulcalle/Epidural_new_class/E7/E7_Distance1.5mm',\n",
       " '/scratch/paulcalle/Epidural_new_class/E7/E7_Distance2.5mm',\n",
       " '/scratch/paulcalle/Epidural_new_class/E7/E7_Distance1.0mm',\n",
       " '/scratch/paulcalle/Epidural_new_class/E4/E4_Distance0.5mm',\n",
       " '/scratch/paulcalle/Epidural_new_class/E4/E4_Distance1.5mm',\n",
       " '/scratch/paulcalle/Epidural_new_class/E4/E4_Distance2.0mm',\n",
       " '/scratch/paulcalle/Epidural_new_class/E4/E4_Distance1.0mm',\n",
       " '/scratch/paulcalle/Epidural_new_class/E4/E4_Distance2.5mm',\n",
       " '/scratch/paulcalle/Epidural_new_class/E3/E3_Distance0.5mm',\n",
       " '/scratch/paulcalle/Epidural_new_class/E3/E3_Distance1.5mm',\n",
       " '/scratch/paulcalle/Epidural_new_class/E3/E3_Distance2.0mm',\n",
       " '/scratch/paulcalle/Epidural_new_class/E3/E3_Distance1.0mm',\n",
       " '/scratch/paulcalle/Epidural_new_class/E3/E3_Distance2.5mm']"
      ]
     },
     "execution_count": 3,
     "metadata": {},
     "output_type": "execute_result"
    }
   ],
   "source": [
    "l_folders"
   ]
  },
  {
   "cell_type": "code",
   "execution_count": null,
   "metadata": {},
   "outputs": [],
   "source": [
    "l_name_files = []\n",
    "l_images = []\n",
    "\n",
    "for item in l_folders:\n",
    "    file_dir_temp = os.listdir( item )\n",
    "    print(file_dir_temp)\n",
    "    for item_list in file_dir_temp:\n",
    "        path_img = item + \"/\" + item_list\n",
    "        print(path_img)\n",
    "        img = mpimg.imread(path_img, format = \"jpg\")\n",
    "#         plt.imshow(img)\n",
    "        l_images.append(img)\n",
    "        l_name_files.append(item_list)"
   ]
  },
  {
   "cell_type": "code",
   "execution_count": null,
   "metadata": {},
   "outputs": [],
   "source": [
    "l_name_files"
   ]
  },
  {
   "cell_type": "code",
   "execution_count": null,
   "metadata": {},
   "outputs": [],
   "source": [
    "l_images"
   ]
  },
  {
   "cell_type": "code",
   "execution_count": 7,
   "metadata": {},
   "outputs": [],
   "source": [
    "# Since the three channels repeat\n",
    "# Just using one\n",
    "l_images_1D = [ item[:,:,0] for item in l_images]"
   ]
  },
  {
   "cell_type": "code",
   "execution_count": 8,
   "metadata": {},
   "outputs": [],
   "source": [
    "# Converting to array\n",
    "a_images_1D = np.array(l_images_1D)"
   ]
  },
  {
   "cell_type": "code",
   "execution_count": 9,
   "metadata": {},
   "outputs": [
    {
     "data": {
      "text/plain": [
       "(24000, 241, 181)"
      ]
     },
     "execution_count": 9,
     "metadata": {},
     "output_type": "execute_result"
    }
   ],
   "source": [
    "a_images_1D.shape"
   ]
  },
  {
   "cell_type": "code",
   "execution_count": 10,
   "metadata": {},
   "outputs": [
    {
     "data": {
      "text/plain": [
       "24000"
      ]
     },
     "execution_count": 10,
     "metadata": {},
     "output_type": "execute_result"
    }
   ],
   "source": [
    "len(l_name_files)"
   ]
  },
  {
   "cell_type": "markdown",
   "metadata": {},
   "source": [
    "# Get epidural number"
   ]
  },
  {
   "cell_type": "code",
   "execution_count": 13,
   "metadata": {},
   "outputs": [],
   "source": [
    "import re\n",
    "\n",
    "l_epidural_num = []\n",
    "\n",
    "r = re.compile(r'(?<=e)[0-9]+')\n",
    "\n",
    "for item in l_name_files:\n",
    "\n",
    "    res = r.search(item)   \n",
    "    l_epidural_num.append(int(res.group(0)))"
   ]
  },
  {
   "cell_type": "code",
   "execution_count": 14,
   "metadata": {},
   "outputs": [],
   "source": [
    "a_epidural_num = np.array(l_epidural_num)"
   ]
  },
  {
   "cell_type": "code",
   "execution_count": 26,
   "metadata": {},
   "outputs": [
    {
     "data": {
      "text/plain": [
       "(24000,)"
      ]
     },
     "execution_count": 26,
     "metadata": {},
     "output_type": "execute_result"
    }
   ],
   "source": [
    "a_epidural_num.shape"
   ]
  },
  {
   "cell_type": "code",
   "execution_count": 27,
   "metadata": {},
   "outputs": [
    {
     "data": {
      "text/plain": [
       "Counter({1: 3000,\n",
       "         6: 3000,\n",
       "         2: 3000,\n",
       "         8: 3000,\n",
       "         5: 3000,\n",
       "         7: 3000,\n",
       "         4: 3000,\n",
       "         3: 3000})"
      ]
     },
     "execution_count": 27,
     "metadata": {},
     "output_type": "execute_result"
    }
   ],
   "source": [
    "import collections\n",
    "collections.Counter(a_epidural_num)"
   ]
  },
  {
   "cell_type": "markdown",
   "metadata": {},
   "source": [
    "# Selecting images"
   ]
  },
  {
   "cell_type": "markdown",
   "metadata": {},
   "source": [
    "**From**: <br>\n",
    "0.5mm: 333 images <br>\n",
    "1.0mm: 333 images <br>\n",
    "1.5mm, 2.0mm and 2.5mm: 334 images<br>"
   ]
  },
  {
   "cell_type": "code",
   "execution_count": 16,
   "metadata": {},
   "outputs": [],
   "source": [
    "l_distance = []\n",
    "\n",
    "for item in l_name_files:\n",
    "\n",
    "    if \"0.5mm\" in item:\n",
    "        l_distance.append(\"0.5mm\")\n",
    "    elif \"1.0mm\" in item:\n",
    "        l_distance.append(\"1.0mm\")\n",
    "    elif \"1.5mm\" in item:\n",
    "        l_distance.append(\"1.5mm\")\n",
    "    elif \"2.0mm\" in item:\n",
    "        l_distance.append(\"2.0mm\")\n",
    "    elif \"2.5mm\" in item:\n",
    "        l_distance.append(\"2.5mm\")"
   ]
  },
  {
   "cell_type": "code",
   "execution_count": 17,
   "metadata": {},
   "outputs": [],
   "source": [
    "a_distance = np.array(l_distance)"
   ]
  },
  {
   "cell_type": "code",
   "execution_count": 18,
   "metadata": {},
   "outputs": [
    {
     "data": {
      "text/plain": [
       "24000"
      ]
     },
     "execution_count": 18,
     "metadata": {},
     "output_type": "execute_result"
    }
   ],
   "source": [
    "a_distance.shape[0]"
   ]
  },
  {
   "cell_type": "code",
   "execution_count": 21,
   "metadata": {},
   "outputs": [],
   "source": [
    "np.random.seed(1234)\n",
    "\n",
    "l_images_empty = []\n",
    "l_epidural_empty_num = [] \n",
    "\n",
    "for epid_num in np.arange(1,9):\n",
    "\n",
    "    bool_1 = np.logical_and(a_distance == \"0.5mm\", a_epidural_num == epid_num)\n",
    "\n",
    "    indices_05mm = np.random.choice(a_images_1D[bool_1].shape[0], 333, replace = None)\n",
    "\n",
    "    a_images_1D_05mm = a_images_1D[bool_1][indices_05mm]\n",
    "    a_epidural_05mm_num = a_epidural_num[bool_1][indices_05mm]\n",
    "\n",
    "    bool_2 = np.logical_and( a_distance == \"1.0mm\", a_epidural_num == epid_num)\n",
    "\n",
    "    indices_10mm = np.random.choice(a_images_1D[bool_2].shape[0], 333, replace = None)\n",
    "\n",
    "    a_images_1D_10mm = a_images_1D[bool_2][indices_10mm]\n",
    "    a_epidural_10mm_num = a_epidural_num[bool_2][indices_10mm]\n",
    "\n",
    "    bool_3 = np.logical_and(np.logical_or(np.logical_or( a_distance == \"1.5mm\",\n",
    "                                         a_distance == \"2.0mm\"),a_distance == \"2.5mm\"),\n",
    "                                         a_epidural_num == epid_num)\n",
    "\n",
    "    indices_15mm = np.random.choice(a_images_1D[bool_3].shape[0], 334, replace = None)\n",
    "\n",
    "    a_images_1D_15mm = a_images_1D[bool_3][indices_15mm]\n",
    "    a_epidural_15mm_num = a_epidural_num[bool_3][indices_15mm]\n",
    "    \n",
    "    a_images_empty_temp = np.concatenate( (a_images_1D_05mm, a_images_1D_10mm,\n",
    "                                      a_images_1D_15mm), axis = 0)\n",
    "    \n",
    "    a_epidural_empty_num_temp = np.concatenate( (a_epidural_05mm_num, a_epidural_10mm_num,\n",
    "                                        a_epidural_15mm_num), axis = 0)\n",
    "    \n",
    "    l_images_empty.append(a_images_empty_temp)\n",
    "    l_epidural_empty_num.append(a_epidural_empty_num_temp)"
   ]
  },
  {
   "cell_type": "code",
   "execution_count": 22,
   "metadata": {},
   "outputs": [
    {
     "data": {
      "text/plain": [
       "(8000, 241, 181)"
      ]
     },
     "execution_count": 22,
     "metadata": {},
     "output_type": "execute_result"
    }
   ],
   "source": [
    "a_images_empty = np.concatenate(l_images_empty)\n",
    "a_images_empty.shape"
   ]
  },
  {
   "cell_type": "code",
   "execution_count": 23,
   "metadata": {},
   "outputs": [
    {
     "data": {
      "text/plain": [
       "(8000, 241, 181)"
      ]
     },
     "execution_count": 23,
     "metadata": {},
     "output_type": "execute_result"
    }
   ],
   "source": [
    "a_epidural_empty_num = np.concatenate(l_epidural_empty_num)\n",
    "a_images_empty.shape"
   ]
  },
  {
   "cell_type": "code",
   "execution_count": 31,
   "metadata": {},
   "outputs": [
    {
     "data": {
      "text/plain": [
       "Counter({1: 1000,\n",
       "         2: 1000,\n",
       "         3: 1000,\n",
       "         4: 1000,\n",
       "         5: 1000,\n",
       "         6: 1000,\n",
       "         7: 1000,\n",
       "         8: 1000})"
      ]
     },
     "execution_count": 31,
     "metadata": {},
     "output_type": "execute_result"
    }
   ],
   "source": [
    "import collections\n",
    "collections.Counter(a_epidural_empty_num)"
   ]
  },
  {
   "cell_type": "code",
   "execution_count": 24,
   "metadata": {},
   "outputs": [],
   "source": [
    "with open('/work/omicsbio/paulcalle/Epidural_project/Epidural_data/a_images_empty.npy', 'wb') as f:\n",
    "    np.save(f, a_images_empty)"
   ]
  },
  {
   "cell_type": "code",
   "execution_count": 25,
   "metadata": {},
   "outputs": [],
   "source": [
    "with open('/work/omicsbio/paulcalle/Epidural_project/Epidural_data/a_epidural_empty_num.npy', 'wb') as f:\n",
    "    np.save(f, a_epidural_empty_num)"
   ]
  }
 ],
 "metadata": {
  "kernelspec": {
   "display_name": "Python 3",
   "language": "python",
   "name": "python3"
  },
  "language_info": {
   "codemirror_mode": {
    "name": "ipython",
    "version": 3
   },
   "file_extension": ".py",
   "mimetype": "text/x-python",
   "name": "python",
   "nbconvert_exporter": "python",
   "pygments_lexer": "ipython3",
   "version": "3.8.2"
  },
  "toc": {
   "base_numbering": 1,
   "nav_menu": {},
   "number_sections": true,
   "sideBar": true,
   "skip_h1_title": false,
   "title_cell": "Table of Contents",
   "title_sidebar": "Contents",
   "toc_cell": false,
   "toc_position": {},
   "toc_section_display": true,
   "toc_window_display": true
  }
 },
 "nbformat": 4,
 "nbformat_minor": 4
}
