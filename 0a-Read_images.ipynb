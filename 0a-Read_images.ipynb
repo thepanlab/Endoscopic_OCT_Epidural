{
 "cells": [
  {
   "cell_type": "markdown",
   "metadata": {},
   "source": [
    "# Reading the whole directory"
   ]
  },
  {
   "cell_type": "code",
   "execution_count": 17,
   "metadata": {
    "scrolled": true
   },
   "outputs": [
    {
     "name": "stdout",
     "output_type": "stream",
     "text": [
      "e6_ligament\n",
      "e6_spinal_cord\n",
      "e6_fat\n",
      "e6_flavum\n",
      "e1_spinal_cord\n",
      "e1_flavum\n",
      "e1_fat\n",
      "e1_ligament\n",
      "e5_flavum\n",
      "e5_ligament\n",
      "e5_spinal_cord\n",
      "e5_fat\n",
      "e8_spinal_cord\n",
      "e8_fat\n",
      "e8_ligament\n",
      "e8_flavum\n",
      "e2_ligament\n",
      "e2_fat\n",
      "e2_spinal_cord\n",
      "e2_flavum\n",
      "e7_ligament\n",
      "e7_flavum\n",
      "e7_fat\n",
      "e7_spinal_cord\n",
      "e3_fat\n",
      "e3_spinal_cord\n",
      "e3_flavum\n",
      "e3_ligament\n",
      "e4_flavum\n",
      "e4_ligament\n",
      "e4_spinal_cord\n",
      "e4_fat\n"
     ]
    }
   ],
   "source": [
    "import os, sys\n",
    "\n",
    "# Open a file\n",
    "path = \"/scratch/paulcalle/Epidural/\"\n",
    "dirs = os.listdir( path )\n",
    "\n",
    "# It will get the directories with the full directory name\n",
    "l_folders = [] \n",
    "# This would print all the files and directories\n",
    "for item in dirs:\n",
    "    temp_dir = path + item\n",
    "    if os.path.isdir(temp_dir):\n",
    "        subdirs = os.listdir(temp_dir)\n",
    "        for subitem in subdirs:\n",
    "            l_folders.append(temp_dir + \"/\" +subitem)\n",
    "            print(subitem)"
   ]
  },
  {
   "cell_type": "code",
   "execution_count": 18,
   "metadata": {},
   "outputs": [
    {
     "data": {
      "text/plain": [
       "['Epidural_6',\n",
       " 'Epidural_1',\n",
       " 'Epidural_5',\n",
       " 'Epidural_8',\n",
       " 'Epidural_2',\n",
       " 'Epidural_7',\n",
       " 'Epidural_3',\n",
       " 'Epidural_4']"
      ]
     },
     "execution_count": 18,
     "metadata": {},
     "output_type": "execute_result"
    }
   ],
   "source": [
    "dirs"
   ]
  },
  {
   "cell_type": "code",
   "execution_count": null,
   "metadata": {
    "scrolled": true
   },
   "outputs": [],
   "source": [
    "l_folders"
   ]
  },
  {
   "cell_type": "code",
   "execution_count": null,
   "metadata": {},
   "outputs": [],
   "source": [
    "l_name_files = []\n",
    "l_images = []\n",
    "\n",
    "for item in l_folders:\n",
    "    file_dir_temp = os.listdir( item )\n",
    "    print(file_dir_temp)\n",
    "    for item_list in file_dir_temp:\n",
    "        path_img = item + \"/\" + item_list\n",
    "        print(path_img)\n",
    "        img = mpimg.imread(path_img, format = \"jpg\")\n",
    "#         plt.imshow(img)\n",
    "        l_images.append(img)\n",
    "        l_name_files.append(item_list)\n",
    "#         break"
   ]
  },
  {
   "cell_type": "code",
   "execution_count": 22,
   "metadata": {},
   "outputs": [
    {
     "data": {
      "text/plain": [
       "31700"
      ]
     },
     "execution_count": 22,
     "metadata": {},
     "output_type": "execute_result"
    }
   ],
   "source": [
    "len(l_images)"
   ]
  },
  {
   "cell_type": "code",
   "execution_count": 23,
   "metadata": {},
   "outputs": [
    {
     "data": {
      "text/plain": [
       "(241, 181, 3)"
      ]
     },
     "execution_count": 23,
     "metadata": {},
     "output_type": "execute_result"
    }
   ],
   "source": [
    "l_images[20000].shape"
   ]
  },
  {
   "cell_type": "code",
   "execution_count": 24,
   "metadata": {},
   "outputs": [
    {
     "data": {
      "text/plain": [
       "'858_e6ligament.jpg'"
      ]
     },
     "execution_count": 24,
     "metadata": {},
     "output_type": "execute_result"
    }
   ],
   "source": [
    "l_name_files[0]"
   ]
  },
  {
   "cell_type": "code",
   "execution_count": 25,
   "metadata": {},
   "outputs": [],
   "source": [
    "# Since the three channels repeat\n",
    "# Just using one\n",
    "l_images_1D = [ item[:,:,0] for item in l_images]"
   ]
  },
  {
   "cell_type": "code",
   "execution_count": 28,
   "metadata": {},
   "outputs": [
    {
     "data": {
      "text/plain": [
       "31700"
      ]
     },
     "execution_count": 28,
     "metadata": {},
     "output_type": "execute_result"
    }
   ],
   "source": [
    "len(l_images_1D)"
   ]
  },
  {
   "cell_type": "code",
   "execution_count": 29,
   "metadata": {},
   "outputs": [
    {
     "data": {
      "text/plain": [
       "(241, 181)"
      ]
     },
     "execution_count": 29,
     "metadata": {},
     "output_type": "execute_result"
    }
   ],
   "source": [
    "l_images_1D[0].shape"
   ]
  },
  {
   "cell_type": "code",
   "execution_count": 30,
   "metadata": {},
   "outputs": [],
   "source": [
    "import numpy as np"
   ]
  },
  {
   "cell_type": "code",
   "execution_count": 31,
   "metadata": {},
   "outputs": [
    {
     "data": {
      "text/plain": [
       "array([[  6,  24,  37, ...,  25,  52,   2],\n",
       "       [ 62,  32,  50, ...,  39,  58,  35],\n",
       "       [ 83,  27,  31, ...,  38,  47,  76],\n",
       "       ...,\n",
       "       [ 43,  62,  42, ...,  28,   5,  27],\n",
       "       [ 66,  62,  13, ...,  53,   7,  12],\n",
       "       [109,  44,  28, ...,   9,   0,  60]], dtype=uint8)"
      ]
     },
     "execution_count": 31,
     "metadata": {},
     "output_type": "execute_result"
    }
   ],
   "source": [
    "l_images_1D[0]"
   ]
  },
  {
   "cell_type": "code",
   "execution_count": 32,
   "metadata": {},
   "outputs": [
    {
     "data": {
      "text/plain": [
       "255"
      ]
     },
     "execution_count": 32,
     "metadata": {},
     "output_type": "execute_result"
    }
   ],
   "source": [
    "np.max(img)"
   ]
  },
  {
   "cell_type": "code",
   "execution_count": 33,
   "metadata": {},
   "outputs": [],
   "source": [
    "# Converting to array\n",
    "a_images_1D = np.array(l_images_1D)"
   ]
  },
  {
   "cell_type": "code",
   "execution_count": 35,
   "metadata": {},
   "outputs": [
    {
     "data": {
      "text/plain": [
       "(31700, 241, 181)"
      ]
     },
     "execution_count": 35,
     "metadata": {},
     "output_type": "execute_result"
    }
   ],
   "source": [
    "a_images_1D.shape"
   ]
  },
  {
   "cell_type": "code",
   "execution_count": 36,
   "metadata": {},
   "outputs": [
    {
     "data": {
      "text/plain": [
       "(241, 181)"
      ]
     },
     "execution_count": 36,
     "metadata": {},
     "output_type": "execute_result"
    }
   ],
   "source": [
    "a_images_1D[0].shape"
   ]
  },
  {
   "cell_type": "markdown",
   "metadata": {},
   "source": [
    "# Label the data"
   ]
  },
  {
   "cell_type": "code",
   "execution_count": null,
   "metadata": {},
   "outputs": [],
   "source": [
    "l_name_files"
   ]
  },
  {
   "cell_type": "code",
   "execution_count": 38,
   "metadata": {},
   "outputs": [],
   "source": [
    "import re\n",
    "\n",
    "l_label = []\n",
    "\n",
    "for item in l_name_files:\n",
    "\n",
    "    if \"fat\" in item:\n",
    "        l_label.append(\"fat\")\n",
    "    elif \"flavum\" in item:\n",
    "        l_label.append(\"flavum\")\n",
    "    elif \"ligament\" in item:\n",
    "        l_label.append(\"ligament\")\n",
    "    elif \"spinalcord\" in item:\n",
    "        l_label.append(\"spinalcord\")\n",
    "    \n",
    "#     break\n",
    "#\n",
    "    \n",
    "    # $list(filter(lambda v: re.match('rs', v), l_sample))"
   ]
  },
  {
   "cell_type": "code",
   "execution_count": 40,
   "metadata": {},
   "outputs": [
    {
     "data": {
      "text/plain": [
       "True"
      ]
     },
     "execution_count": 40,
     "metadata": {},
     "output_type": "execute_result"
    }
   ],
   "source": [
    "\"ligament\" in l_name_files[0]"
   ]
  },
  {
   "cell_type": "code",
   "execution_count": 41,
   "metadata": {},
   "outputs": [],
   "source": [
    "a_label = np.array(l_label)"
   ]
  },
  {
   "cell_type": "code",
   "execution_count": 42,
   "metadata": {},
   "outputs": [
    {
     "data": {
      "text/plain": [
       "array(['ligament', 'ligament', 'ligament', ..., 'fat', 'fat', 'fat'],\n",
       "      dtype='<U10')"
      ]
     },
     "execution_count": 42,
     "metadata": {},
     "output_type": "execute_result"
    }
   ],
   "source": [
    "a_label"
   ]
  },
  {
   "cell_type": "code",
   "execution_count": 43,
   "metadata": {},
   "outputs": [],
   "source": [
    "dict_count = {}\n",
    "dict_count[\"fat\"] = 0\n",
    "dict_count[\"flavum\"] = 0\n",
    "dict_count[\"ligament\"] = 0\n",
    "dict_count[\"spinalcord\"] = 0\n",
    "\n",
    "for item in a_label:\n",
    "    if item == \"fat\":\n",
    "        dict_count[\"fat\"] += 1\n",
    "    elif item == \"flavum\":\n",
    "        dict_count[\"flavum\"] += 1\n",
    "    if item == \"ligament\":\n",
    "        dict_count[\"ligament\"] += 1\n",
    "    if item == \"spinalcord\":\n",
    "        dict_count[\"spinalcord\"] += 1"
   ]
  },
  {
   "cell_type": "code",
   "execution_count": 44,
   "metadata": {},
   "outputs": [
    {
     "data": {
      "text/plain": [
       "{'fat': 8000, 'flavum': 8000, 'ligament': 8000, 'spinalcord': 7700}"
      ]
     },
     "execution_count": 44,
     "metadata": {},
     "output_type": "execute_result"
    }
   ],
   "source": [
    "dict_count"
   ]
  },
  {
   "cell_type": "markdown",
   "metadata": {},
   "source": [
    "# Get Epidural number"
   ]
  },
  {
   "cell_type": "code",
   "execution_count": 45,
   "metadata": {},
   "outputs": [],
   "source": [
    "l_name_files\n",
    "\n",
    "l_epidural_num = []\n",
    "\n",
    "r = re.compile(r'(?<=e)[0-9]+')\n",
    "\n",
    "for item in l_name_files:\n",
    "\n",
    "    res = r.search(item)   \n",
    "    l_epidural_num.append(int(res.group(0)))"
   ]
  },
  {
   "cell_type": "code",
   "execution_count": 46,
   "metadata": {},
   "outputs": [],
   "source": [
    "a_epidural_num = np.array(l_epidural_num)"
   ]
  },
  {
   "cell_type": "code",
   "execution_count": 47,
   "metadata": {},
   "outputs": [
    {
     "data": {
      "text/plain": [
       "(31700,)"
      ]
     },
     "execution_count": 47,
     "metadata": {},
     "output_type": "execute_result"
    }
   ],
   "source": [
    "a_epidural_num.shape"
   ]
  },
  {
   "cell_type": "code",
   "execution_count": 48,
   "metadata": {},
   "outputs": [],
   "source": [
    "import numpy as np"
   ]
  },
  {
   "cell_type": "code",
   "execution_count": 49,
   "metadata": {},
   "outputs": [
    {
     "data": {
      "text/plain": [
       "array([1, 2, 3, 4, 5, 6, 7, 8])"
      ]
     },
     "execution_count": 49,
     "metadata": {},
     "output_type": "execute_result"
    }
   ],
   "source": [
    "np.unique(a_epidural_num)"
   ]
  },
  {
   "cell_type": "code",
   "execution_count": 50,
   "metadata": {},
   "outputs": [
    {
     "data": {
      "text/plain": [
       "5"
      ]
     },
     "execution_count": 50,
     "metadata": {},
     "output_type": "execute_result"
    }
   ],
   "source": [
    "a_epidural_num[10000]"
   ]
  },
  {
   "cell_type": "code",
   "execution_count": 51,
   "metadata": {},
   "outputs": [
    {
     "data": {
      "text/plain": [
       "'327_e5spinalcord.jpg'"
      ]
     },
     "execution_count": 51,
     "metadata": {},
     "output_type": "execute_result"
    }
   ],
   "source": [
    "l_name_files[10000]"
   ]
  },
  {
   "cell_type": "markdown",
   "metadata": {},
   "source": [
    "# Saving as binaries"
   ]
  },
  {
   "cell_type": "code",
   "execution_count": 52,
   "metadata": {},
   "outputs": [],
   "source": [
    "with open('/work/omicsbio/paulcalle/Epidural_project/Epidural_data/a_images_1D.npy', 'wb') as f:\n",
    "    np.save(f, a_images_1D)"
   ]
  },
  {
   "cell_type": "code",
   "execution_count": 53,
   "metadata": {},
   "outputs": [],
   "source": [
    "with open('/work/omicsbio/paulcalle/Epidural_project/Epidural_data/a_label.npy', 'wb') as f:\n",
    "    np.save(f, a_label)"
   ]
  },
  {
   "cell_type": "code",
   "execution_count": 54,
   "metadata": {},
   "outputs": [],
   "source": [
    "with open('/work/omicsbio/paulcalle/Epidural_project/Epidural_data/a_epidural_num.npy', 'wb') as f:\n",
    "    np.save(f, a_epidural_num)"
   ]
  },
  {
   "cell_type": "code",
   "execution_count": null,
   "metadata": {},
   "outputs": [],
   "source": []
  }
 ],
 "metadata": {
  "kernelspec": {
   "display_name": "Python 3",
   "language": "python",
   "name": "python3"
  },
  "language_info": {
   "codemirror_mode": {
    "name": "ipython",
    "version": 3
   },
   "file_extension": ".py",
   "mimetype": "text/x-python",
   "name": "python",
   "nbconvert_exporter": "python",
   "pygments_lexer": "ipython3",
   "version": "3.8.2"
  },
  "toc": {
   "base_numbering": 1,
   "nav_menu": {},
   "number_sections": true,
   "sideBar": true,
   "skip_h1_title": false,
   "title_cell": "Table of Contents",
   "title_sidebar": "Contents",
   "toc_cell": false,
   "toc_position": {
    "height": "calc(100% - 180px)",
    "left": "10px",
    "top": "150px",
    "width": "232.2px"
   },
   "toc_section_display": true,
   "toc_window_display": true
  }
 },
 "nbformat": 4,
 "nbformat_minor": 4
}
